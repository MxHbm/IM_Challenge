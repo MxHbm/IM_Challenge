{
 "cells": [
  {
   "cell_type": "code",
   "execution_count": 1,
   "metadata": {},
   "outputs": [],
   "source": [
    "from ConstructiveHeuristic import *"
   ]
  },
  {
   "cell_type": "code",
   "execution_count": 2,
   "metadata": {},
   "outputs": [
    {
     "name": "stdout",
     "output_type": "stream",
     "text": [
      "______________________________________________________________________\n",
      "Generating an initial solution according to Greedy.\n",
      "Assigning main tasks to days and cohorts according to OnePerDay.\n",
      "Initial Solution found.\n",
      "Solution:\n",
      " Route Plan: {0: [[803, 310, 172, 714, 909, 914, 214, 1002, 885, 109, 424, 951, 658, 863, 386, 822, 244, 839, 701, 339, 313, 638], [596, 499, 462, 239, 824, 410, 501, 446, 343, 957, 328, 307, 347, 1003, 831, 583, 657, 289], [712, 989, 844, 1006, 196, 74, 282, 488, 591, 384, 913, 774, 190, 879, 553, 101, 465, 430], [373, 564, 431, 767, 572, 594, 846, 416, 1007, 584, 817, 847, 526, 387, 88, 581, 735, 459, 975], [896, 931, 535, 483, 212, 139, 169, 28, 1009, 219, 225, 376, 969, 299, 469, 848, 935, 49, 898, 637, 890], [573, 916, 550, 945, 39, 312, 134, 670, 1010, 623, 256, 210, 571, 281, 234, 151], [301, 968, 878, 474, 721, 684, 423, 258, 1012, 318, 237, 322, 206, 546, 319, 910, 843]], 1: [[422, 59, 176, 314, 85, 220, 137, 965, 261, 763, 306, 1001, 67, 984, 140, 865, 113, 381, 36], [830, 22, 782, 978, 267, 409, 345, 1004, 389, 349, 746, 814, 29, 479, 595], [613, 99, 798, 348, 201, 544, 1005, 976, 495, 837, 598, 154, 182, 841, 743, 611, 458, 718], [815, 392, 856, 285, 617, 904, 355, 97, 32, 937, 859, 124, 961, 60, 497, 1008, 549, 186, 160, 77], [441, 601, 191, 869, 213, 821, 783, 1011, 692, 102, 9, 271, 293, 57, 636, 627, 71, 642, 147, 297, 53, 305], [833, 608, 491, 970, 538, 286, 94, 76, 475, 1013, 656, 162, 997, 529, 51], [894, 753, 341, 356, 950, 128, 399, 649, 1014, 786, 628, 618, 17, 554, 364, 686, 948, 425]]}\n",
      " Number of Tasks: 258\n",
      " Total Profit: 723\n",
      "______________________________________________________________________\n",
      "Generating an initial solution according to Greedy.\n",
      "Assigning main tasks to days and cohorts according to MIP.\n",
      "Calculate Distances\n",
      "Calculate Distance plus Service Times\n",
      "Set parameter Username\n",
      "Academic license - for non-commercial use only - expires 2024-11-02\n",
      "Text file has been created at ../Data/Results_Main/Task_Allocation.txt\n",
      "Initial Solution found.\n",
      "Solution:\n",
      " Route Plan: {0: [[803, 310, 172, 714, 909, 914, 214, 1002, 885, 109, 424, 951, 658, 863, 386, 822, 244, 839, 701, 339, 313, 638], [896, 931, 535, 483, 212, 139, 169, 28, 1009, 219, 225, 376, 969, 299, 469, 848, 935, 49, 898, 637, 890], [301, 968, 878, 474, 721, 684, 465, 879, 1012, 553, 190, 430, 961, 124, 937, 196, 989, 830], [573, 916, 550, 945, 39, 312, 134, 670, 1010, 623, 256, 210, 571, 281, 234, 151], [373, 564, 431, 767, 572, 594, 846, 239, 1007, 584, 462, 499, 387, 88, 581, 735, 526, 941, 125], [712, 113, 140, 1006, 583, 1003, 824, 501, 410, 446], [815, 753, 213, 869, 529, 51, 305, 399, 392, 128, 356, 950, 554, 364, 686, 549, 186, 160, 285, 856, 865, 261, 965, 314, 763, 381]], 1: [[613, 99, 798, 348, 201, 544, 1005, 976, 495, 837, 598, 154, 182, 841, 743, 611, 458, 718], [491, 833, 441, 601, 191, 162, 997, 692, 596, 459, 975, 422, 59, 22, 71, 642, 176, 297, 147, 817, 847, 893, 306, 939, 920, 36, 850], [488, 546, 319, 978, 267, 409, 345, 1004, 389, 910, 843, 782, 591, 384, 913, 774], [970, 538, 286, 608, 94, 76, 475, 656, 293, 1013, 9, 102, 271, 57, 821, 393], [628, 636, 627, 442, 417, 745, 1011, 427, 77, 617, 1008, 904, 542, 933, 866], [85, 220, 343, 816, 222, 192, 957, 328, 307, 1001, 347, 831, 657, 289, 282, 74], [894, 786, 341, 618, 17, 938, 471, 1014, 248, 964, 614, 122, 887, 711, 30, 432, 90]]}\n",
      " Number of Tasks: 257\n",
      " Total Profit: 718\n",
      "______________________________________________________________________\n"
     ]
    }
   ],
   "source": [
    "mainTaskPlanner = ['OnePerDay', 'MIP']\n",
    "\n",
    "print('______________________________________________________________________')\n",
    "for mainTaskPlanner in mainTaskPlanner:\n",
    "    data = InputData(\"../Data/Instanzen/Instance7_2_1.json\")\n",
    "\n",
    "    pool = SolutionPool()\n",
    "    evaluationLogic = EvaluationLogic(data)\n",
    "\n",
    "    ConstructiveHeuristic = ConstructiveHeuristics(pool, evaluationLogic)\n",
    "\n",
    "\n",
    "    ConstructiveHeuristic.Run(data, 'Greedy', mainTaskPlanner = mainTaskPlanner, attractivenessFunction='WithDistanceToMainTask')\n",
    "    solution = pool.GetHighestProfitSolution()\n",
    "    print(solution)\n",
    "    print('______________________________________________________________________')\n",
    "\n",
    "\n",
    "\n",
    "#solution.WriteSolToJson(data)"
   ]
  },
  {
   "cell_type": "code",
   "execution_count": 3,
   "metadata": {},
   "outputs": [],
   "source": [
    "# Solution speichern\n",
    "\n",
    "#solution.WriteSolToJson(data)"
   ]
  },
  {
   "cell_type": "code",
   "execution_count": 4,
   "metadata": {},
   "outputs": [
    {
     "name": "stdout",
     "output_type": "stream",
     "text": [
      "Total Elements:  257\n"
     ]
    }
   ],
   "source": [
    "route = solution.RoutePlan\n",
    "\n",
    "totalElements = sum(len(element) for sublist in route.values() for element in sublist)\n",
    "\n",
    "print(\"Total Elements: \", totalElements)\n",
    "\n"
   ]
  },
  {
   "cell_type": "code",
   "execution_count": 5,
   "metadata": {},
   "outputs": [
    {
     "name": "stdout",
     "output_type": "stream",
     "text": [
      "Gesamtanzahl der Elemente: 10\n"
     ]
    }
   ],
   "source": [
    "# Deine Datenstruktur\n",
    "data = {\n",
    "    0: [[1, 2, 3], [4, 5]],\n",
    "    1: [[6, 7], [8, 9, 10]]\n",
    "}\n",
    "\n",
    "# Zähle die Gesamtanzahl der Elemente\n",
    "total_elements = sum(len(element) for sublist in data.values() for element in sublist)\n",
    "\n",
    "# Zeige die Gesamtanzahl der Elemente\n",
    "print(f'Gesamtanzahl der Elemente: {total_elements}')"
   ]
  }
 ],
 "metadata": {
  "kernelspec": {
   "display_name": "base",
   "language": "python",
   "name": "python3"
  },
  "language_info": {
   "codemirror_mode": {
    "name": "ipython",
    "version": 3
   },
   "file_extension": ".py",
   "mimetype": "text/x-python",
   "name": "python",
   "nbconvert_exporter": "python",
   "pygments_lexer": "ipython3",
   "version": "3.9.18"
  }
 },
 "nbformat": 4,
 "nbformat_minor": 2
}
