{
 "cells": [
  {
   "cell_type": "code",
   "execution_count": 1,
   "metadata": {},
   "outputs": [],
   "source": [
    "from ConstructiveHeuristic import *"
   ]
  },
  {
   "cell_type": "code",
   "execution_count": 13,
   "metadata": {},
   "outputs": [
    {
     "name": "stdout",
     "output_type": "stream",
     "text": [
      "Generating an initial solution according to Greedy.\n",
      "Initial Solution found.\n",
      "Solution:\n",
      " Route Plan: {0: [[951, 658, 863, 386, 1001, 637, 890, 856, 285], [424, 885, 310, 803, 172, 692, 596, 459, 975, 1005, 22, 422, 59, 642, 176, 297], [815, 535, 931, 483, 212, 950, 1018, 347, 831], [109, 94, 714, 914, 1021, 824, 501, 410], [244, 822, 611, 1023, 887, 526, 387, 88, 581, 735, 499, 462], [491, 839, 701, 1024, 937, 124, 961, 430], [441, 601, 1033, 571, 281, 234, 151]], 1: [[833, 608, 970, 538, 339, 313, 638, 1002, 147, 817, 847], [896, 139, 219, 225, 376, 969, 1003, 196, 989, 844], [191, 909, 712, 1011, 366, 136, 630, 114, 138, 620, 52, 56], [869, 213, 830, 51, 1012, 184, 690, 100, 612, 370, 781, 813], [753, 356, 399, 1015, 113, 865, 140, 965, 261, 314], [656, 821, 1026, 256, 573, 210, 916], [162, 997, 214, 1027, 564, 373, 767, 594, 572, 30, 159]], 2: [[894, 786, 1009, 670, 551, 966], [9, 102, 271, 57, 1010, 299, 469, 848, 935, 49, 898, 549, 186], [628, 529, 305, 392, 1028, 584, 239, 846, 893, 306, 939], [293, 964, 1031, 978, 267], [475, 614, 122, 1032, 283, 634, 72, 583], [128, 427, 866, 1034, 769, 561, 597, 791, 713, 764], [341, 554, 364, 686, 1035, 920, 763, 381, 36, 977, 979]], 3: [[76, 619, 900, 148, 43, 1008, 446, 343], [280, 169, 126, 1013, 382, 67, 984, 85], [391, 636, 627, 71, 1014, 657, 289, 282, 74], [286, 298, 198, 1016, 693, 262], [618, 17, 649, 164, 1025, 99, 798, 348], [471, 522, 1029, 660, 796, 680, 125, 941, 365, 253, 439], [248, 938, 460, 1030, 782, 910, 843]], 4: [[324, 442, 417, 1004, 278, 468, 64, 221, 304, 948, 255], [729, 98, 273, 1006, 488, 591], [775, 418, 653, 342, 245, 1007, 380, 921, 118, 311, 663], [28, 425, 77, 542, 933, 1017, 42, 53, 243, 699, 157], [851, 998, 548, 360, 1019, 432, 90, 711, 899, 728], [559, 523, 886, 1020, 384, 913, 774], [103, 613, 1022, 231, 357, 954, 411, 617, 904]]}\n",
      " Number of Tasks: 328\n",
      " Total Profit: 859\n",
      "JSON file has been created at ../Data/Results_Greedy/solution_Instance7_5_2.json\n"
     ]
    }
   ],
   "source": [
    "data = InputData(\"../Data/Instanzen/Instance7_5_2.json\")\n",
    "\n",
    "pool = SolutionPool()\n",
    "evaluationLogic = EvaluationLogic(data)\n",
    "\n",
    "ConstructiveHeuristic = ConstructiveHeuristics(pool, evaluationLogic)\n",
    "\n",
    "ConstructiveHeuristic.Run(data, \"Greedy\")\n",
    "\n",
    "solution = pool.GetLowestMakespanSolution()\n",
    "\n",
    "print(solution)\n",
    "\n",
    "solution.WriteSolToJson(data)\n"
   ]
  },
  {
   "cell_type": "code",
   "execution_count": 3,
   "metadata": {},
   "outputs": [
    {
     "name": "stdout",
     "output_type": "stream",
     "text": [
      "Total Elements:  328\n"
     ]
    }
   ],
   "source": [
    "route = solution.RoutePlan\n",
    "\n",
    "totalElements = sum(len(element) for sublist in route.values() for element in sublist)\n",
    "\n",
    "print(\"Total Elements: \", totalElements)"
   ]
  },
  {
   "cell_type": "code",
   "execution_count": 4,
   "metadata": {},
   "outputs": [
    {
     "name": "stdout",
     "output_type": "stream",
     "text": [
      "Gesamtanzahl der Elemente: 10\n"
     ]
    }
   ],
   "source": [
    "# Deine Datenstruktur\n",
    "data = {\n",
    "    0: [[1, 2, 3], [4, 5]],\n",
    "    1: [[6, 7], [8, 9, 10]]\n",
    "}\n",
    "\n",
    "# Zähle die Gesamtanzahl der Elemente\n",
    "total_elements = sum(len(element) for sublist in data.values() for element in sublist)\n",
    "\n",
    "# Zeige die Gesamtanzahl der Elemente\n",
    "print(f'Gesamtanzahl der Elemente: {total_elements}')"
   ]
  }
 ],
 "metadata": {
  "kernelspec": {
   "display_name": "base",
   "language": "python",
   "name": "python3"
  },
  "language_info": {
   "codemirror_mode": {
    "name": "ipython",
    "version": 3
   },
   "file_extension": ".py",
   "mimetype": "text/x-python",
   "name": "python",
   "nbconvert_exporter": "python",
   "pygments_lexer": "ipython3",
   "version": "3.9.18"
  }
 },
 "nbformat": 4,
 "nbformat_minor": 2
}
