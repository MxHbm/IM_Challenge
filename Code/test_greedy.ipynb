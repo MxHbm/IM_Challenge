{
 "cells": [
  {
   "cell_type": "code",
   "execution_count": 4,
   "metadata": {},
   "outputs": [],
   "source": [
    "from ConstructiveHeuristic import *\n",
    "import os"
   ]
  },
  {
   "cell_type": "code",
   "execution_count": 9,
   "metadata": {},
   "outputs": [
    {
     "data": {
      "text/plain": [
       "'/Users/mxhbmn/Desktop/12. Semester/IM_Challenge'"
      ]
     },
     "execution_count": 9,
     "metadata": {},
     "output_type": "execute_result"
    }
   ],
   "source": [
    "path = os.getcwd()\n",
    "# Split the path into the directory and the last subfolder\n",
    "parent_path, last_subfolder = os.path.split(path)\n",
    "parent_path"
   ]
  },
  {
   "cell_type": "code",
   "execution_count": 14,
   "metadata": {},
   "outputs": [
    {
     "name": "stdout",
     "output_type": "stream",
     "text": [
      "______________________________________________________________________\n"
     ]
    },
    {
     "ename": "FileNotFoundError",
     "evalue": "[Errno 2] No such file or directory: '/Users/mxhbmn/Desktop/12. Semester/IM_Challenge/Code/Data/OptionalTasks.csv'",
     "output_type": "error",
     "traceback": [
      "\u001b[0;31m---------------------------------------------------------------------------\u001b[0m",
      "\u001b[0;31mFileNotFoundError\u001b[0m                         Traceback (most recent call last)",
      "Cell \u001b[0;32mIn[14], line 5\u001b[0m\n\u001b[1;32m      3\u001b[0m \u001b[38;5;28mprint\u001b[39m(\u001b[38;5;124m'\u001b[39m\u001b[38;5;124m______________________________________________________________________\u001b[39m\u001b[38;5;124m'\u001b[39m)\n\u001b[1;32m      4\u001b[0m \u001b[38;5;28;01mfor\u001b[39;00m mainTaskPlanner \u001b[38;5;129;01min\u001b[39;00m mainTaskPlanner:\n\u001b[0;32m----> 5\u001b[0m     data \u001b[38;5;241m=\u001b[39m InputData(parent_path \u001b[38;5;241m+\u001b[39m\u001b[38;5;124m\"\u001b[39m\u001b[38;5;124m/Data/Instanzen/Instance7_2_1.json\u001b[39m\u001b[38;5;124m\"\u001b[39m)\n\u001b[1;32m      7\u001b[0m     pool \u001b[38;5;241m=\u001b[39m SolutionPool()\n\u001b[1;32m      8\u001b[0m     evaluationLogic \u001b[38;5;241m=\u001b[39m EvaluationLogic(data)\n",
      "File \u001b[0;32m~/Desktop/12. Semester/IM_Challenge/Code/InputData.py:187\u001b[0m, in \u001b[0;36mInputData.__init__\u001b[0;34m(self, main_tasks_path, optional_tasks_path)\u001b[0m\n\u001b[1;32m    185\u001b[0m \u001b[38;5;66;03m# Load and create task objects from file paths\u001b[39;00m\n\u001b[1;32m    186\u001b[0m \u001b[38;5;28mself\u001b[39m\u001b[38;5;241m.\u001b[39m_Load_MainTasks()\n\u001b[0;32m--> 187\u001b[0m \u001b[38;5;28mself\u001b[39m\u001b[38;5;241m.\u001b[39m_Load_OptionalTasks()\n\u001b[1;32m    189\u001b[0m \u001b[38;5;66;03m# Create List with all Tasks\u001b[39;00m\n\u001b[1;32m    190\u001b[0m \u001b[38;5;28mself\u001b[39m\u001b[38;5;241m.\u001b[39m_allTasks \u001b[38;5;241m=\u001b[39m \u001b[38;5;28mself\u001b[39m\u001b[38;5;241m.\u001b[39m_optionalTasks \u001b[38;5;241m+\u001b[39m \u001b[38;5;28mself\u001b[39m\u001b[38;5;241m.\u001b[39m_mainTasks\n",
      "File \u001b[0;32m~/Desktop/12. Semester/IM_Challenge/Code/InputData.py:206\u001b[0m, in \u001b[0;36mInputData._Load_OptionalTasks\u001b[0;34m(self)\u001b[0m\n\u001b[1;32m    203\u001b[0m \u001b[38;5;28mself\u001b[39m\u001b[38;5;241m.\u001b[39m_optionalTasks \u001b[38;5;241m=\u001b[39m \u001b[38;5;28mlist\u001b[39m()\n\u001b[1;32m    205\u001b[0m \u001b[38;5;66;03m# Open the CSV file and read its contents\u001b[39;00m\n\u001b[0;32m--> 206\u001b[0m \u001b[38;5;28;01mwith\u001b[39;00m \u001b[38;5;28mopen\u001b[39m(\u001b[38;5;28mself\u001b[39m\u001b[38;5;241m.\u001b[39m_optional_tasks_path, newline\u001b[38;5;241m=\u001b[39m\u001b[38;5;124m'\u001b[39m\u001b[38;5;124m'\u001b[39m, encoding\u001b[38;5;241m=\u001b[39m\u001b[38;5;124m'\u001b[39m\u001b[38;5;124mutf-8\u001b[39m\u001b[38;5;124m'\u001b[39m) \u001b[38;5;28;01mas\u001b[39;00m csvfile:\n\u001b[1;32m    207\u001b[0m     reader \u001b[38;5;241m=\u001b[39m csv\u001b[38;5;241m.\u001b[39mDictReader(csvfile)\n\u001b[1;32m    209\u001b[0m     \u001b[38;5;66;03m# Create OptionalTask objects for each row in the CSV file\u001b[39;00m\n",
      "\u001b[0;31mFileNotFoundError\u001b[0m: [Errno 2] No such file or directory: '/Users/mxhbmn/Desktop/12. Semester/IM_Challenge/Code/Data/OptionalTasks.csv'"
     ]
    }
   ],
   "source": [
    "mainTaskPlanner = ['OnePerDay', 'MIP']\n",
    "\n",
    "print('______________________________________________________________________')\n",
    "for mainTaskPlanner in mainTaskPlanner:\n",
    "    data = InputData(parent_path +\"/Data/Instanzen/Instance7_2_1.json\")\n",
    "\n",
    "    pool = SolutionPool()\n",
    "    evaluationLogic = EvaluationLogic(data)\n",
    "\n",
    "    ConstructiveHeuristic = ConstructiveHeuristics(pool, evaluationLogic)\n",
    "\n",
    "\n",
    "    ConstructiveHeuristic.Run(data, 'Greedy', mainTaskPlanner = mainTaskPlanner, attractivenessFunction='WithDistanceToMainTask')\n",
    "    solution = pool.GetHighestProfitSolution()\n",
    "    print(solution)\n",
    "    print('______________________________________________________________________')\n",
    "\n",
    "\n",
    "\n",
    "#solution.WriteSolToJson(data)"
   ]
  },
  {
   "cell_type": "code",
   "execution_count": null,
   "metadata": {},
   "outputs": [],
   "source": [
    "# Solution speichern\n",
    "\n",
    "#solution.WriteSolToJson(data)"
   ]
  },
  {
   "cell_type": "code",
   "execution_count": null,
   "metadata": {},
   "outputs": [
    {
     "name": "stdout",
     "output_type": "stream",
     "text": [
      "Total Elements:  257\n"
     ]
    }
   ],
   "source": [
    "route = solution.RoutePlan\n",
    "\n",
    "totalElements = sum(len(element) for sublist in route.values() for element in sublist)\n",
    "\n",
    "print(\"Total Elements: \", totalElements)\n",
    "\n"
   ]
  },
  {
   "cell_type": "code",
   "execution_count": null,
   "metadata": {},
   "outputs": [
    {
     "name": "stdout",
     "output_type": "stream",
     "text": [
      "Gesamtanzahl der Elemente: 10\n"
     ]
    }
   ],
   "source": [
    "# Deine Datenstruktur\n",
    "data = {\n",
    "    0: [[1, 2, 3], [4, 5]],\n",
    "    1: [[6, 7], [8, 9, 10]]\n",
    "}\n",
    "\n",
    "# Zähle die Gesamtanzahl der Elemente\n",
    "total_elements = sum(len(element) for sublist in data.values() for element in sublist)\n",
    "\n",
    "# Zeige die Gesamtanzahl der Elemente\n",
    "print(f'Gesamtanzahl der Elemente: {total_elements}')"
   ]
  }
 ],
 "metadata": {
  "kernelspec": {
   "display_name": "base",
   "language": "python",
   "name": "python3"
  },
  "language_info": {
   "codemirror_mode": {
    "name": "ipython",
    "version": 3
   },
   "file_extension": ".py",
   "mimetype": "text/x-python",
   "name": "python",
   "nbconvert_exporter": "python",
   "pygments_lexer": "ipython3",
   "version": "3.11.4"
  }
 },
 "nbformat": 4,
 "nbformat_minor": 2
}
