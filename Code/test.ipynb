{
 "cells": [
  {
   "cell_type": "code",
   "execution_count": 1,
   "metadata": {},
   "outputs": [],
   "source": [
    "from ConstructiveHeuristic import * \n",
    "import os\n",
    "target_directory = \"/Users/mxhbmn/Desktop/12. Semester/IM_Challenge\"\n",
    "os.chdir(target_directory)\n",
    "data = InputData(\"Data/Instanzen/Instance7_2_1.json\")"
   ]
  },
  {
   "cell_type": "code",
   "execution_count": 2,
   "metadata": {},
   "outputs": [
    {
     "name": "stdout",
     "output_type": "stream",
     "text": [
      "Generating an initial solution according to Greedy.\n"
     ]
    },
    {
     "data": {
      "text/plain": [
       "{0: [[0, 1002, 0],\n",
       "  [0, 1003, 0],\n",
       "  [0, 1006, 0],\n",
       "  [0, 1007, 0],\n",
       "  [0, 1009, 0],\n",
       "  [0, 1010, 0],\n",
       "  [0, 1012, 0]],\n",
       " 1: [[0, 1001, 0],\n",
       "  [0, 1004, 0],\n",
       "  [0, 1005, 0],\n",
       "  [0, 1008, 0],\n",
       "  [0, 1011, 0],\n",
       "  [0, 1013, 0],\n",
       "  [0, 1014, 0]]}"
      ]
     },
     "execution_count": 2,
     "metadata": {},
     "output_type": "execute_result"
    }
   ],
   "source": [
    "data = InputData(\"Data/Instanzen/Instance7_2_1.json\")\n",
    "\n",
    "pool = SolutionPool()\n",
    "\n",
    "ConstructiveHeuristic = ConstructiveHeuristics(pool)\n",
    "\n",
    "ConstructiveHeuristic.Run(data, \"Greedy\")\n",
    "\n",
    "pool.GetLowestMakespanSolution().RoutePlan"
   ]
  },
  {
   "cell_type": "code",
   "execution_count": 3,
   "metadata": {},
   "outputs": [
    {
     "data": {
      "text/plain": [
       "{0: [[0, 1002, 0],\n",
       "  [0, 1003, 0],\n",
       "  [0, 1006, 0],\n",
       "  [0, 1007, 0],\n",
       "  [0, 1009, 0],\n",
       "  [0, 1010, 0],\n",
       "  [0, 1012, 0]],\n",
       " 1: [[0, 1001, 0],\n",
       "  [0, 1004, 0],\n",
       "  [0, 1005, 0],\n",
       "  [0, 1008, 0],\n",
       "  [0, 1011, 0],\n",
       "  [0, 1013, 0],\n",
       "  [0, 1014, 0]]}"
      ]
     },
     "execution_count": 3,
     "metadata": {},
     "output_type": "execute_result"
    }
   ],
   "source": [
    "pool.GetLowestMakespanSolution().RoutePlan"
   ]
  },
  {
   "cell_type": "code",
   "execution_count": 4,
   "metadata": {},
   "outputs": [
    {
     "data": {
      "text/plain": [
       "[6, 7, 8, 9, 10]"
      ]
     },
     "execution_count": 4,
     "metadata": {},
     "output_type": "execute_result"
    }
   ],
   "source": [
    "list = [5,6,7,8,9,10,12]\n",
    "\n",
    "list[1:-1]"
   ]
  }
 ],
 "metadata": {
  "kernelspec": {
   "display_name": "work",
   "language": "python",
   "name": "python3"
  },
  "language_info": {
   "codemirror_mode": {
    "name": "ipython",
    "version": 3
   },
   "file_extension": ".py",
   "mimetype": "text/x-python",
   "name": "python",
   "nbconvert_exporter": "python",
   "pygments_lexer": "ipython3",
   "version": "3.11.4"
  }
 },
 "nbformat": 4,
 "nbformat_minor": 2
}
