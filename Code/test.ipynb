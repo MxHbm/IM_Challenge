{
 "cells": [
  {
   "cell_type": "code",
   "execution_count": 1,
   "metadata": {},
   "outputs": [],
   "source": [
    "from ConstructiveHeuristic import * "
   ]
  },
  {
   "cell_type": "code",
   "execution_count": 3,
   "metadata": {},
   "outputs": [
    {
     "name": "stdout",
     "output_type": "stream",
     "text": [
      "/Users/mxhbmn/Desktop/12. Semester/IM_Challenge/Code\n",
      "Generating an initial solution according to Greedy.\n"
     ]
    }
   ],
   "source": [
    "data = InputData(\"../Data/Instanzen/Instance7_2_1.json\")\n",
    "\n",
    "pool = SolutionPool()\n",
    "\n",
    "ConstructiveHeuristic = ConstructiveHeuristics(pool)\n",
    "\n",
    "ConstructiveHeuristic.Run(data, \"Greedy\")"
   ]
  },
  {
   "cell_type": "code",
   "execution_count": 7,
   "metadata": {},
   "outputs": [
    {
     "data": {
      "text/plain": [
       "{0: [[1001], [1002], [1003], [1004], [1005], [1006], [1007]],\n",
       " 1: [[1002], [1004], [1006], [1008], [1010], [1012], [1014]]}"
      ]
     },
     "execution_count": 7,
     "metadata": {},
     "output_type": "execute_result"
    }
   ],
   "source": [
    "pool.GetLowestMakespanSolution().RoutePlan"
   ]
  },
  {
   "cell_type": "code",
   "execution_count": null,
   "metadata": {},
   "outputs": [],
   "source": []
  }
 ],
 "metadata": {
  "kernelspec": {
   "display_name": "work",
   "language": "python",
   "name": "python3"
  },
  "language_info": {
   "codemirror_mode": {
    "name": "ipython",
    "version": 3
   },
   "file_extension": ".py",
   "mimetype": "text/x-python",
   "name": "python",
   "nbconvert_exporter": "python",
   "pygments_lexer": "ipython3",
   "version": "3.11.4"
  }
 },
 "nbformat": 4,
 "nbformat_minor": 2
}
