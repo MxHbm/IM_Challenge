{
 "cells": [
  {
   "cell_type": "code",
   "execution_count": 1,
   "metadata": {},
   "outputs": [],
   "source": [
    "from ConstructiveHeuristic import * \n",
    "import os\n",
    "target_directory = \"/Users/mxhbmn/Desktop/12. Semester/IM_Challenge\"\n",
    "os.chdir(target_directory)\n",
    "data = InputData(\"Data/Instanzen/Instance7_2_1.json\")"
   ]
  },
  {
   "cell_type": "code",
   "execution_count": 2,
   "metadata": {},
   "outputs": [
    {
     "name": "stdout",
     "output_type": "stream",
     "text": [
      "Generating an initial solution according to Greedy.\n"
     ]
    },
    {
     "ename": "AttributeError",
     "evalue": "'OptionalTask' object has no attribute 'day'",
     "output_type": "error",
     "traceback": [
      "\u001b[0;31m---------------------------------------------------------------------------\u001b[0m",
      "\u001b[0;31mAttributeError\u001b[0m                            Traceback (most recent call last)",
      "Cell \u001b[0;32mIn[2], line 7\u001b[0m\n\u001b[1;32m      3\u001b[0m pool \u001b[38;5;241m=\u001b[39m SolutionPool()\n\u001b[1;32m      5\u001b[0m ConstructiveHeuristic \u001b[38;5;241m=\u001b[39m ConstructiveHeuristics(pool)\n\u001b[0;32m----> 7\u001b[0m ConstructiveHeuristic\u001b[38;5;241m.\u001b[39mRun(data, \u001b[38;5;124m\"\u001b[39m\u001b[38;5;124mGreedy\u001b[39m\u001b[38;5;124m\"\u001b[39m)\n",
      "File \u001b[0;32m~/Desktop/12. Semester/IM_Challenge/Code/ConstructiveHeuristic.py:41\u001b[0m, in \u001b[0;36mConstructiveHeuristics.Run\u001b[0;34m(self, inputData, solutionMethod)\u001b[0m\n\u001b[1;32m     39\u001b[0m \u001b[38;5;66;03m# Decision tree for choosing constructive heuristic \u001b[39;00m\n\u001b[1;32m     40\u001b[0m \u001b[38;5;28;01mif\u001b[39;00m solutionMethod \u001b[38;5;241m==\u001b[39m \u001b[38;5;124m'\u001b[39m\u001b[38;5;124mGreedy\u001b[39m\u001b[38;5;124m'\u001b[39m:\n\u001b[0;32m---> 41\u001b[0m     solution \u001b[38;5;241m=\u001b[39m \u001b[38;5;28mself\u001b[39m\u001b[38;5;241m.\u001b[39m_Greedy(inputData)\n\u001b[1;32m     42\u001b[0m \u001b[38;5;28;01melse\u001b[39;00m:\n\u001b[1;32m     43\u001b[0m     \u001b[38;5;28mprint\u001b[39m(\u001b[38;5;124m'\u001b[39m\u001b[38;5;124mUnkown constructive solution method: \u001b[39m\u001b[38;5;124m'\u001b[39m \u001b[38;5;241m+\u001b[39m solutionMethod \u001b[38;5;241m+\u001b[39m \u001b[38;5;124m'\u001b[39m\u001b[38;5;124m.\u001b[39m\u001b[38;5;124m'\u001b[39m)\n",
      "File \u001b[0;32m~/Desktop/12. Semester/IM_Challenge/Code/ConstructiveHeuristic.py:51\u001b[0m, in \u001b[0;36mConstructiveHeuristics._Greedy\u001b[0;34m(self, inputData)\u001b[0m\n\u001b[1;32m     48\u001b[0m \u001b[38;5;28;01mdef\u001b[39;00m \u001b[38;5;21m_Greedy\u001b[39m(\u001b[38;5;28mself\u001b[39m, inputData:InputData) \u001b[38;5;241m-\u001b[39m\u001b[38;5;241m>\u001b[39m Solution:\n\u001b[1;32m     49\u001b[0m \u001b[38;5;250m    \u001b[39m\u001b[38;5;124;03m''' Sorts jobs from 0 to x. job and calculates makespan'''\u001b[39;00m\n\u001b[0;32m---> 51\u001b[0m     prefilled_route_plan \u001b[38;5;241m=\u001b[39m \u001b[38;5;28mself\u001b[39m\u001b[38;5;241m.\u001b[39m_create_initial_route_plan(inputData)\n\u001b[1;32m     53\u001b[0m     tmpSolution \u001b[38;5;241m=\u001b[39m Solution(prefilled_route_plan, inputData)\n\u001b[1;32m     55\u001b[0m     \u001b[38;5;66;03m#self.EvaluationLogic.DefineStartEnd(tmpSolution)\u001b[39;00m\n",
      "File \u001b[0;32m~/Desktop/12. Semester/IM_Challenge/Code/ConstructiveHeuristic.py:25\u001b[0m, in \u001b[0;36mConstructiveHeuristics._create_initial_route_plan\u001b[0;34m(self, inputData)\u001b[0m\n\u001b[1;32m     23\u001b[0m     routeplan[day] \u001b[38;5;241m=\u001b[39m []\n\u001b[1;32m     24\u001b[0m     \u001b[38;5;28;01mfor\u001b[39;00m t \u001b[38;5;129;01min\u001b[39;00m \u001b[38;5;28mrange\u001b[39m(\u001b[38;5;241m1000\u001b[39m,\u001b[38;5;28mlen\u001b[39m(inputData\u001b[38;5;241m.\u001b[39mallTasks)):\n\u001b[0;32m---> 25\u001b[0m         \u001b[38;5;28;01mif\u001b[39;00m inputData\u001b[38;5;241m.\u001b[39mallTasks[t]\u001b[38;5;241m.\u001b[39mday \u001b[38;5;241m==\u001b[39m day:\n\u001b[1;32m     26\u001b[0m             routeplan[day]\u001b[38;5;241m.\u001b[39mappend([\u001b[38;5;241m0\u001b[39m,t,\u001b[38;5;241m0\u001b[39m])\n\u001b[1;32m     28\u001b[0m \u001b[38;5;66;03m#Return the prefilled route plan\u001b[39;00m\n",
      "\u001b[0;31mAttributeError\u001b[0m: 'OptionalTask' object has no attribute 'day'"
     ]
    }
   ],
   "source": [
    "data = InputData(\"Data/Instanzen/Instance7_2_1.json\")\n",
    "\n",
    "pool = SolutionPool()\n",
    "\n",
    "ConstructiveHeuristic = ConstructiveHeuristics(pool)\n",
    "\n",
    "ConstructiveHeuristic.Run(data, \"Greedy\")\n",
    "\n",
    "pool.GetLowestMakespanSolution().RoutePlan"
   ]
  },
  {
   "cell_type": "code",
   "execution_count": null,
   "metadata": {},
   "outputs": [
    {
     "data": {
      "text/plain": [
       "{0: [],\n",
       " 1: [[0, 1002, 0],\n",
       "  [0, 1003, 0],\n",
       "  [0, 1006, 0],\n",
       "  [0, 1007, 0],\n",
       "  [0, 1009, 0],\n",
       "  [0, 1010, 0],\n",
       "  [0, 1012, 0]]}"
      ]
     },
     "execution_count": 3,
     "metadata": {},
     "output_type": "execute_result"
    }
   ],
   "source": [
    "pool.GetLowestMakespanSolution().RoutePlan"
   ]
  },
  {
   "cell_type": "code",
   "execution_count": null,
   "metadata": {},
   "outputs": [
    {
     "data": {
      "text/plain": [
       "[6, 7, 8, 9, 10]"
      ]
     },
     "execution_count": 4,
     "metadata": {},
     "output_type": "execute_result"
    }
   ],
   "source": [
    "list = [5,6,7,8,9,10,12]\n",
    "\n",
    "list[1:-1]"
   ]
  }
 ],
 "metadata": {
  "kernelspec": {
   "display_name": "work",
   "language": "python",
   "name": "python3"
  },
  "language_info": {
   "codemirror_mode": {
    "name": "ipython",
    "version": 3
   },
   "file_extension": ".py",
   "mimetype": "text/x-python",
   "name": "python",
   "nbconvert_exporter": "python",
   "pygments_lexer": "ipython3",
   "version": "3.11.4"
  }
 },
 "nbformat": 4,
 "nbformat_minor": 2
}
