{
 "cells": [
  {
   "cell_type": "code",
   "execution_count": 11,
   "metadata": {},
   "outputs": [
    {
     "name": "stdout",
     "output_type": "stream",
     "text": [
      "\\begin{tabular}{lrrl}\n",
      "\\toprule\n",
      "Instance & Profit & RunTime & Greedy \\\\\n",
      "\\midrule\n",
      "7_2_1 & 750 & 9.762800 & NaN \\\\\n",
      "7_2_2 & 752 & 10.301700 & NaN \\\\\n",
      "7_5_1 & 1613 & 22.368300 & NaN \\\\\n",
      "7_5_2 & 1615 & 18.267200 & NaN \\\\\n",
      "7_8_1 & 2113 & 32.756500 & NaN \\\\\n",
      "7_8_2 & 2093 & 32.937500 & NaN \\\\\n",
      "7_10_1 & 2303 & 33.204100 & NaN \\\\\n",
      "7_10_2 & 2303 & 37.800700 & NaN \\\\\n",
      "\\bottomrule\n",
      "\\end{tabular}\n",
      "\n"
     ]
    }
   ],
   "source": [
    "import pandas as pd\n",
    "\n",
    "df = pd.read_csv('full_results[7_2_1, 7_2_2, 7_5_1, 7_5_2, 7_8_1, 7_8_2, 7_10_1, 7_10_2].csv')\n",
    "\n",
    "# delete waitingtime, totaltask and iterations columns\n",
    "df = df.drop(columns=['WaitingTime', 'TotalTasks', 'Iterations'])\n",
    "\n",
    "# add a column for the Greedy solution\n",
    "df['Greedy'] = None\n",
    "\n",
    "# df to latex\n",
    "\n",
    "print(df.to_latex(index=False, escape=False))"
   ]
  }
 ],
 "metadata": {
  "kernelspec": {
   "display_name": "base",
   "language": "python",
   "name": "python3"
  },
  "language_info": {
   "codemirror_mode": {
    "name": "ipython",
    "version": 3
   },
   "file_extension": ".py",
   "mimetype": "text/x-python",
   "name": "python",
   "nbconvert_exporter": "python",
   "pygments_lexer": "ipython3",
   "version": "3.9.18"
  }
 },
 "nbformat": 4,
 "nbformat_minor": 2
}
