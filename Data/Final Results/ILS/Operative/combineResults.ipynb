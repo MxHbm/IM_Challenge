{
 "cells": [
  {
   "cell_type": "code",
   "execution_count": 2,
   "metadata": {},
   "outputs": [],
   "source": [
    "import pandas as pd\n",
    "\n",
    "# Lade die drei CSV-Dateien\n",
    "csv1 = pd.read_csv('full_results[7_2_1, 7_2_2].csv')\n",
    "csv2 = pd.read_csv('full_results[7_5_1, 7_5_2].csv')\n",
    "csv3 = pd.read_csv('full_results[7_8_1, 7_8_2].csv')\n",
    "\n",
    "# Kombiniere die Dateien\n",
    "combined_csv = pd.concat([csv1, csv2, csv3])\n",
    "\n",
    "# Speichere die kombinierte Datei in einer neuen CSV\n",
    "combined_csv.to_csv('ils_2hour_results.csv', index=False)"
   ]
  },
  {
   "cell_type": "code",
   "execution_count": 3,
   "metadata": {},
   "outputs": [
    {
     "name": "stdout",
     "output_type": "stream",
     "text": [
      "  Instance  Profit  WaitingTime  TotalTasks  Iterations    RunTime\n",
      "0    7_2_1     788       3574.0         279        6345  7212.8358\n",
      "1    7_2_2     789       3348.0         280        6461  7215.2449\n",
      "2    7_5_1    1674       9556.0         643        4243  7224.4552\n",
      "3    7_5_2    1669      10176.0         638        4538  7220.0943\n",
      "4    7_8_1    2166      17257.0         932        5661  7235.2644\n",
      "5    7_8_2    2154      15711.0         929        6040  7235.7490\n"
     ]
    }
   ],
   "source": [
    "# Create stlyed df from csv\n",
    "\n",
    "df = pd.read_csv('ils_2hour_results.csv')\n",
    "\n",
    "print(df)\n"
   ]
  }
 ],
 "metadata": {
  "kernelspec": {
   "display_name": "base",
   "language": "python",
   "name": "python3"
  },
  "language_info": {
   "codemirror_mode": {
    "name": "ipython",
    "version": 3
   },
   "file_extension": ".py",
   "mimetype": "text/x-python",
   "name": "python",
   "nbconvert_exporter": "python",
   "pygments_lexer": "ipython3",
   "version": "3.9.18"
  }
 },
 "nbformat": 4,
 "nbformat_minor": 2
}
