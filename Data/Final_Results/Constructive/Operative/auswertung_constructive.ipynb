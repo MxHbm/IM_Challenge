{
 "cells": [
  {
   "cell_type": "code",
   "execution_count": 1,
   "metadata": {},
   "outputs": [
    {
     "name": "stdout",
     "output_type": "stream",
     "text": [
      "Der Durchschnitt der RunTime ist: 0.6519625\n"
     ]
    }
   ],
   "source": [
    "import pandas as pd\n",
    "\n",
    "# CSV-Datei einlesen\n",
    "df = pd.read_csv('full_results_1paracombo.csv')\n",
    "\n",
    "# Durchschnitt der RunTime berechnen\n",
    "durchschnitt_runtime = df['RunTime'].mean()\n",
    "\n",
    "# Ausgabe des Durchschnitts\n",
    "print(f'Der Durchschnitt der RunTime ist: {durchschnitt_runtime}')"
   ]
  },
  {
   "cell_type": "code",
   "execution_count": 2,
   "metadata": {},
   "outputs": [
    {
     "name": "stdout",
     "output_type": "stream",
     "text": [
      "Der Durchschnitt der RunTime ist: 4.35595\n"
     ]
    }
   ],
   "source": [
    "import pandas as pd\n",
    "\n",
    "# CSV-Datei einlesen\n",
    "df = pd.read_csv('full_results_2paracombo.csv')\n",
    "\n",
    "# Durchschnitt der RunTime berechnen\n",
    "durchschnitt_runtime = df['RunTime'].mean()\n",
    "\n",
    "# Ausgabe des Durchschnitts\n",
    "print(f'Der Durchschnitt der RunTime ist: {durchschnitt_runtime}')"
   ]
  },
  {
   "cell_type": "code",
   "execution_count": 3,
   "metadata": {},
   "outputs": [
    {
     "name": "stdout",
     "output_type": "stream",
     "text": [
      "Der Durchschnitt der RunTime ist: 11.9640875\n"
     ]
    }
   ],
   "source": [
    "import pandas as pd\n",
    "\n",
    "# CSV-Datei einlesen\n",
    "df = pd.read_csv('full_results_3paracombo.csv')\n",
    "\n",
    "# Durchschnitt der RunTime berechnen\n",
    "durchschnitt_runtime = df['RunTime'].mean()\n",
    "\n",
    "# Ausgabe des Durchschnitts\n",
    "print(f'Der Durchschnitt der RunTime ist: {durchschnitt_runtime}')"
   ]
  }
 ],
 "metadata": {
  "kernelspec": {
   "display_name": "base",
   "language": "python",
   "name": "python3"
  },
  "language_info": {
   "codemirror_mode": {
    "name": "ipython",
    "version": 3
   },
   "file_extension": ".py",
   "mimetype": "text/x-python",
   "name": "python",
   "nbconvert_exporter": "python",
   "pygments_lexer": "ipython3",
   "version": "3.9.18"
  }
 },
 "nbformat": 4,
 "nbformat_minor": 2
}
