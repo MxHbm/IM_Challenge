{
 "cells": [
  {
   "cell_type": "code",
   "execution_count": 1,
   "metadata": {},
   "outputs": [],
   "source": [
    "import pandas as pd\n",
    "\n",
    "# Lade die drei CSV-Dateien\n",
    "csv1 = pd.read_csv('full_results[7_2_1, 7_2_2].csv')\n",
    "csv2 = pd.read_csv('full_results[7_5_1, 7_5_2].csv')\n",
    "csv3 = pd.read_csv('full_results[7_8_1, 7_8_2].csv')\n",
    "\n",
    "# Kombiniere die Dateien\n",
    "combined_csv = pd.concat([csv1, csv2, csv3])\n",
    "\n",
    "# Speichere die kombinierte Datei in einer neuen CSV\n",
    "combined_csv.to_csv('sails_2hour_results.csv', index=False)"
   ]
  },
  {
   "cell_type": "code",
   "execution_count": 3,
   "metadata": {},
   "outputs": [
    {
     "name": "stdout",
     "output_type": "stream",
     "text": [
      "  Instance  Profit  WaitingTime  TotalTasks  Iterations    RunTime\n",
      "0    7_2_1     789       4193.0         279         674  7214.6229\n",
      "1    7_2_2     791       3994.0         281         656  7215.2788\n",
      "2    7_5_1    1668       9799.0         644         516  7224.8532\n",
      "3    7_5_2    1666      10526.0         636         508  7217.2019\n",
      "4    7_8_1    2166      16537.0         934         662  7230.7252\n",
      "5    7_8_2    2154      15641.0         932         576  7229.9359\n"
     ]
    }
   ],
   "source": [
    "# Create stlyed df from csv\n",
    "\n",
    "df = pd.read_csv('sails_2hour_results.csv')\n",
    "\n",
    "print(df)\n"
   ]
  }
 ],
 "metadata": {
  "kernelspec": {
   "display_name": "base",
   "language": "python",
   "name": "python3"
  },
  "language_info": {
   "codemirror_mode": {
    "name": "ipython",
    "version": 3
   },
   "file_extension": ".py",
   "mimetype": "text/x-python",
   "name": "python",
   "nbconvert_exporter": "python",
   "pygments_lexer": "ipython3",
   "version": "3.9.18"
  }
 },
 "nbformat": 4,
 "nbformat_minor": 2
}
